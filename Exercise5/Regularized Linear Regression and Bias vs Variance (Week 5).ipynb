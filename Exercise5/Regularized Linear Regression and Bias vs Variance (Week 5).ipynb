{
 "cells": [
  {
   "cell_type": "code",
   "execution_count": 67,
   "metadata": {},
   "outputs": [],
   "source": [
    "import os\n",
    "import numpy as np\n",
    "from matplotlib import pyplot\n",
    "from scipy import optimize\n",
    "from scipy.io import loadmat\n",
    "import utils\n",
    "grader = utils.Grader()\n",
    "\n",
    "# tells matplotlib to embed plots within the notebook\n",
    "%matplotlib inline"
   ]
  },
  {
   "cell_type": "code",
   "execution_count": 12,
   "metadata": {},
   "outputs": [
    {
     "data": {
      "text/plain": [
       "Text(0, 0.5, 'Water flowing out of the dam (y)')"
      ]
     },
     "execution_count": 12,
     "metadata": {},
     "output_type": "execute_result"
    },
    {
     "data": {
      "image/png": "[encoded data removed]",
      "text/plain": [
       "<Figure size 432x288 with 1 Axes>"
      ]
     },
     "metadata": {
      "needs_background": "light"
     },
     "output_type": "display_data"
    }
   ],
   "source": [
    "data = loadmat(os.path.join('Data', 'ex5data1.mat' ))\n",
    "X, y = data['X'], data['y'][:, 0]\n",
    "Xtest, ytest = data['Xtest'], data['ytest'][:, 0]\n",
    "Xval,yval = data['Xval'], data['yval'][:, 0]\n",
    "\n",
    "m = y.size\n",
    "pyplot.plot(X, y,'ro')\n",
    "pyplot.xlabel(\"Change in water level (x)\")\n",
    "pyplot.ylabel(\"Water flowing out of the dam (y)\")"
   ]
  },
  {
   "cell_type": "code",
   "execution_count": 44,
   "metadata": {},
   "outputs": [
    {
     "name": "stdout",
     "output_type": "stream",
     "text": [
      "Cost at theta = [1, 1]:\t   303.993192 \n",
      "This value should be about 303.993192)\n",
      "\n",
      "Gradient at theta = [1, 1]:  [-15.303016, 598.250744] \n",
      " (this value should be about [-15.303016, 598.250744])\n",
      "\n"
     ]
    }
   ],
   "source": [
    "def linearRegCostFunction(X, y , theta, lambda_):\n",
    "    J = 0\n",
    "    grad = np.zeros(theta.shape)\n",
    "    \n",
    "    J = (1/(2*m))*np.sum(( X.dot(theta) -y )**2) + lambda_/(2*m)*(np.sum( theta[1:]**2 ))\n",
    "    thetacopy = theta.copy()\n",
    "    thetacopy[0]= 0 #making the first element zero for biasing\n",
    "    grad = (1/m)* ( (X.dot(theta))-y ).dot(X) + (lambda_/m)*thetacopy\n",
    "    \n",
    "    return J, grad\n",
    "    \n",
    "    \n",
    "    \n",
    "theta = np.array([1,1])\n",
    "\n",
    "J, grad = linearRegCostFunction( np.concatenate( [np.ones((m,1)),X ], axis =1), y, theta, 1 )\n",
    "print('Cost at theta = [1, 1]:\\t   %f ' % J)\n",
    "print('This value should be about 303.993192)\\n' % J)\n",
    "print('Gradient at theta = [1, 1]:  [{:.6f}, {:.6f}] '.format(*grad))\n",
    "print(' (this value should be about [-15.303016, 598.250744])\\n')"
   ]
  },
  {
   "cell_type": "code",
   "execution_count": 45,
   "metadata": {},
   "outputs": [
    {
     "name": "stdout",
     "output_type": "stream",
     "text": [
      "\n",
      "Submitting Solutions | Programming Exercise regularized-linear-regression-and-bias-variance\n",
      "\n",
      "Use token from last successful submission (shanislam6@gmail.com)? (Y/n): y\n",
      "(10, 3)\n",
      "(3,)\n",
      "                                  Part Name |     Score | Feedback\n",
      "                                  --------- |     ----- | --------\n",
      "Regularized Linear Regression Cost Function |   0 /  25 | \n",
      "     Regularized Linear Regression Gradient |   0 /  25 | \n",
      "                             Learning Curve |   0 /  20 | \n",
      "                 Polynomial Feature Mapping |   0 /  10 | \n",
      "                           Validation Curve |   0 /  20 | \n",
      "                                  --------------------------------\n",
      "                                            |   0 / 100 |  \n",
      "\n"
     ]
    }
   ],
   "source": [
    "grader[1] = linearRegCostFunction\n",
    "grader.grade()"
   ]
  },
  {
   "cell_type": "code",
   "execution_count": 46,
   "metadata": {},
   "outputs": [
    {
     "name": "stdout",
     "output_type": "stream",
     "text": [
      "\n",
      "Submitting Solutions | Programming Exercise regularized-linear-regression-and-bias-variance\n",
      "\n",
      "Use token from last successful submission (shanislam6@gmail.com)? (Y/n): n\n",
      "Login (email address): shanislam6@gmail.com\n",
      "Token: FmjzOA7un6kh5sjm\n",
      "                                  Part Name |     Score | Feedback\n",
      "                                  --------- |     ----- | --------\n",
      "Regularized Linear Regression Cost Function |   0 /  25 | \n",
      "     Regularized Linear Regression Gradient |   0 /  25 | \n",
      "                             Learning Curve |   0 /  20 | \n",
      "                 Polynomial Feature Mapping |   0 /  10 | \n",
      "                           Validation Curve |   0 /  20 | \n",
      "                                  --------------------------------\n",
      "                                            |   0 / 100 |  \n",
      "\n"
     ]
    }
   ],
   "source": [
    "grader[2] = linearRegCostFunction\n",
    "grader.grade()"
   ]
  },
  {
   "cell_type": "code",
   "execution_count": 53,
   "metadata": {},
   "outputs": [
    {
     "data": {
      "text/plain": [
       "[<matplotlib.lines.Line2D at 0x2ca7ddefb38>]"
      ]
     },
     "execution_count": 53,
     "metadata": {},
     "output_type": "execute_result"
    },
    {
     "data": {
      "image/png": "[encoded data removed]",
      "text/plain": [
       "<Figure size 432x288 with 1 Axes>"
      ]
     },
     "metadata": {
      "needs_background": "light"
     },
     "output_type": "display_data"
    }
   ],
   "source": [
    "X_aug = np.concatenate([np.ones((m, 1)), X], axis=1)\n",
    "theta = utils.trainLinearReg(linearRegCostFunction, X_aug, y, lambda_=0)\n",
    "\n",
    "#  Plot fit over the data\n",
    "pyplot.plot(X, y, 'ro', ms=10, mec='k', mew=1.5)\n",
    "pyplot.xlabel('Change in water level (x)')\n",
    "pyplot.ylabel('Water flowing out of the dam (y)')\n",
    "pyplot.plot(X, np.dot(X_aug, theta), '--', lw=2) #akta graph er i plot. "
   ]
  },
  {
   "cell_type": "code",
   "execution_count": 95,
   "metadata": {},
   "outputs": [
    {
     "name": "stdout",
     "output_type": "stream",
     "text": [
      "(12,)\n",
      "# Training Examples\tTrain Error\tCross Validation Error\n",
      "  \t1\t\t0.000000\t0.000000\n",
      "  \t2\t\t0.000000\t287.202639\n",
      "  \t3\t\t0.000000\t305.926858\n",
      "  \t4\t\t0.000000\t70.174239\n",
      "  \t5\t\t0.067430\t74.470605\n",
      "  \t6\t\t2.119866\t72.186302\n",
      "  \t7\t\t7.888022\t59.570342\n",
      "  \t8\t\t10.375821\t54.178978\n",
      "  \t9\t\t10.518521\t53.510958\n",
      "  \t10\t\t15.955905\t52.691189\n",
      "  \t11\t\t17.872306\t50.060483\n",
      "  \t12\t\t21.130129\t50.532842\n"
     ]
    },
    {
     "data": {
      "image/png": "[encoded data removed]",
      "text/plain": [
       "<Figure size 432x288 with 1 Axes>"
      ]
     },
     "metadata": {
      "needs_background": "light"
     },
     "output_type": "display_data"
    }
   ],
   "source": [
    "def learningCurve(X, y, Xval, yval, lambda_):\n",
    "    error_train = np.zeros(m)\n",
    "    error_val   = np.zeros(m)\n",
    "    \n",
    "    for i in range(1,m):\n",
    "        tempY = y[1:i]\n",
    "        tempX = X[1:i][:]\n",
    "        takes =  utils.trainLinearReg(linearRegCostFunction, tempX,tempY, lambda_,maxiter=200) #calculating theta for data set i from 1 to m as learned in train and using that theta and storing in error cv\n",
    "        \n",
    "        error_train[i],_ = linearRegCostFunction( tempX, tempY, takes, 0 ) #If I dont loop it and calculate it, then error train will contain data from the full set\n",
    "        error_val[i],_ = linearRegCostFunction( Xval, yval, takes, 0 )\n",
    "    \n",
    "    return error_train, error_val\n",
    "\n",
    "X_aug = np.concatenate( [np.ones((m,1)),X], axis = 1 )\n",
    "Xval_aug =  np.concatenate( [np.ones((yval.size,1)),Xval], axis = 1 )\n",
    "error_train, error_val = learningCurve(X_aug, y, Xval_aug, yval, lambda_=0)\n",
    "\n",
    "pyplot.plot(np.arange(1, m+1), error_train, np.arange(1, m+1), error_val, lw=2)\n",
    "pyplot.title('Learning curve for linear regression')\n",
    "pyplot.legend(['Train', 'Cross Validation'])\n",
    "pyplot.xlabel('Number of training examples')\n",
    "pyplot.ylabel('Error')\n",
    "pyplot.axis([2, 13, 0, 150])\n",
    "\n",
    "print('# Training Examples\\tTrain Error\\tCross Validation Error')\n",
    "for i in range(m):\n",
    "    print('  \\t%d\\t\\t%f\\t%f' % (i+1, error_train[i], error_val[i]))"
   ]
  },
  {
   "cell_type": "code",
   "execution_count": null,
   "metadata": {},
   "outputs": [],
   "source": []
  },
  {
   "cell_type": "code",
   "execution_count": 134,
   "metadata": {},
   "outputs": [],
   "source": [
    "def ploy_features(X, p):\n",
    "    x_1 = X[1]\n",
    "    for i in range(2, p+1):\n",
    "        X = np.vstack((X, x_1**i))\n",
    "    return X"
   ]
  },
  {
   "cell_type": "code",
   "execution_count": 135,
   "metadata": {},
   "outputs": [
    {
     "name": "stdout",
     "output_type": "stream",
     "text": [
      "Normalized Training Example 1:\n"
     ]
    },
    {
     "data": {
      "text/plain": [
       "array([ 1.        , -0.31160444, -0.67191122,  0.20444378, -0.68694972,\n",
       "        0.31269222, -0.58676212,  0.34602736, -0.50759683])"
      ]
     },
     "execution_count": 135,
     "metadata": {},
     "output_type": "execute_result"
    }
   ],
   "source": [
    "p = 8\n",
    "X_poly = polyFeatures(X,p) #Aita akta model. Akhon cv, test eu ai model ta dite hobe ar korte hobe\n",
    "X_poly , mu, sigma = utils.featureNormalize(X_poly) #Feature normalizing my new feature which are x**2, x**3\n",
    "X_poly = np.concatenate([np.ones((m, 1)), X_poly], axis=1) #Inputing x0=1 in the beginning\n",
    "\n",
    "#CV\n",
    "X_poly_Cv = polyFeatures(Xval,p)\n",
    "#using the same mu, sigma we got in train to see if those really can work good on the new unseen examples\n",
    "X_poly_Cv -=mu\n",
    "X_poly_Cv /=sigma\n",
    "X_poly_Cv = np.concatenate([np.ones((yval.size, 1)), X_poly_Cv], axis=1)\n",
    "\n",
    "\n",
    "#test\n",
    "X_poly_test = polyFeatures(Xtest,p)\n",
    "X_poly_test -= mu\n",
    "X_poly_test /= sigma\n",
    "X_poly_test = np.concatenate([np.ones((ytest.size, 1)), X_poly_test], axis=1)\n",
    "\n",
    "print('Normalized Training Example 1:')\n",
    "X_poly[0, :]"
   ]
  },
  {
   "cell_type": "code",
   "execution_count": 206,
   "metadata": {},
   "outputs": [
    {
     "name": "stdout",
     "output_type": "stream",
     "text": [
      "Polynomial Regression (lambda = 0.000000)\n",
      "\n",
      "# Training Examples\tTrain Error\tCross Validation Error\n",
      "  \t1\t\t0.000000\t0.000000\n",
      "  \t2\t\t0.000000\t287.202639\n",
      "  \t3\t\t0.000000\t276.393463\n",
      "  \t4\t\t0.000000\t182.295570\n",
      "  \t5\t\t0.000000\t180.395278\n",
      "  \t6\t\t0.000000\t111.040543\n",
      "  \t7\t\t0.000000\t122.493388\n",
      "  \t8\t\t0.000000\t110.635393\n",
      "  \t9\t\t0.000000\t110.666273\n",
      "  \t10\t\t0.000023\t130.387662\n",
      "  \t11\t\t0.003686\t131.487022\n",
      "  \t12\t\t0.022344\t127.136890\n"
     ]
    },
    {
     "data": {
      "image/png": "[encoded data removed]",
      "text/plain": [
       "<Figure size 432x288 with 1 Axes>"
      ]
     },
     "metadata": {
      "needs_background": "light"
     },
     "output_type": "display_data"
    },
    {
     "data": {
      "image/png": "[encoded data removed]",
      "text/plain": [
       "<Figure size 432x288 with 1 Axes>"
      ]
     },
     "metadata": {
      "needs_background": "light"
     },
     "output_type": "display_data"
    }
   ],
   "source": [
    "lambda_ = 0\n",
    "theta = utils.trainLinearReg(linearRegCostFunction, X_poly,y , lambda_ = lambda_,maxiter=55)\n",
    "pyplot.plot(X, y, 'ro',ms=10, mew=1.5, mec='k')\n",
    "utils.plotFit(polyFeatures, np.min(X), np.max(X), mu, sigma, theta, p)\n",
    "pyplot.xlabel(\"Change in water\")\n",
    "pyplot.ylabel(\"Water flow chage\")\n",
    "pyplot.title('Polynomial Regression Fit (lambda = %f)' % lambda_)\n",
    "pyplot.ylim([-20, 50])\n",
    "\n",
    "pyplot.figure()\n",
    "error_train, error_val = learningCurve(X_poly, y, X_poly_Cv, yval, lambda_)\n",
    "pyplot.plot( np.arange(1,m+1) , error_train, np.arange(1,m+1), error_val)\n",
    "pyplot.title('Polynomial Regression Learning Curve (lambda = %f)' % lambda_)\n",
    "pyplot.xlabel('Number of training examples')\n",
    "pyplot.ylabel('Error')\n",
    "\n",
    "pyplot.legend(['Train', 'Cross Validation'])\n",
    "\n",
    "print('Polynomial Regression (lambda = %f)\\n' % lambda_)\n",
    "print('# Training Examples\\tTrain Error\\tCross Validation Error')\n",
    "for i in range(m):\n",
    "    print('  \\t%d\\t\\t%f\\t%f' % (i+1, error_train[i], error_val[i]))"
   ]
  },
  {
   "cell_type": "code",
   "execution_count": 201,
   "metadata": {},
   "outputs": [
    {
     "name": "stdout",
     "output_type": "stream",
     "text": [
      "lambda\t\tTrain Error\tValidation Error\n",
      " 0.000000\t9.688631\t94.011993\n",
      " 0.001000\t10.114675\t92.893085\n",
      " 0.003000\t10.249358\t93.558041\n",
      " 0.010000\t10.360648\t93.965450\n",
      " 0.030000\t10.486492\t94.404661\n",
      " 0.100000\t10.714713\t95.056204\n",
      " 0.300000\t10.975881\t95.285939\n",
      " 1.000000\t11.488319\t94.910459\n",
      " 3.000000\t13.473769\t94.466450\n",
      " 10.000000\t22.694219\t98.383893\n"
     ]
    },
    {
     "data": {
      "image/png": "[encoded data removed]",
      "text/plain": [
       "<Figure size 432x288 with 1 Axes>"
      ]
     },
     "metadata": {
      "needs_background": "light"
     },
     "output_type": "display_data"
    }
   ],
   "source": [
    "def trainLinearReg(linearRegCostFunction, X, y, lambda_, maxiter=200):\n",
    "    \"\"\"\n",
    "    Trains linear regression using scipy's optimize.minimize.\n",
    "    Parameters\n",
    "    ----------\n",
    "    X : array_like\n",
    "        The dataset with shape (m x n+1). The bias term is assumed to be concatenated.\n",
    "    y : array_like\n",
    "        Function values at each datapoint. A vector of shape (m,).\n",
    "    lambda_ : float, optional\n",
    "        The regularization parameter.\n",
    "    maxiter : int, optional\n",
    "        Maximum number of iteration for the optimization algorithm.\n",
    "    Returns\n",
    "    -------\n",
    "    theta : array_like\n",
    "        The parameters for linear regression. This is a vector of shape (n+1,).\n",
    "    \"\"\"\n",
    "    # Initialize Theta\n",
    "    initial_theta = np.zeros(X.shape[1])\n",
    "\n",
    "    # Create \"short hand\" for the cost function to be minimized\n",
    "    costFunction = lambda t: linearRegCostFunction(X, y, t, lambda_)\n",
    "\n",
    "    # Now, costFunction is a function that takes in only one argument\n",
    "    options = {'maxiter': maxiter}\n",
    "\n",
    "    # Minimize using scipy\n",
    "    res = optimize.minimize(costFunction, initial_theta, jac=True, method='TNC', options=options)\n",
    "    return res.x\n",
    "\n",
    "def validationCurve(X, y, Xval, yval):\n",
    "    \n",
    "    lambda_vec = [0, 0.001, 0.003, 0.01, 0.03, 0.1, 0.3, 1, 3, 10]\n",
    "    # You need to return these variables correctly.\n",
    "    error_train = np.zeros(len(lambda_vec))\n",
    "    error_val = np.zeros(len(lambda_vec))\n",
    "    for i in range(len(lambda_vec)):\n",
    "        res_train = trainLinearReg(linearRegCostFunction, np.concatenate([np.ones((y.size, 1)), X], axis=1), y, lambda_vec[i])\n",
    "        error_train[i],_ = linearRegCostFunction(np.concatenate( [np.ones((y.size,1)),X ], axis =1), y , res_train,0 )\n",
    "        error_val[i],_ = linearRegCostFunction(np.concatenate( [np.ones((yval.size,1)),Xval ], axis =1), yval , res_train,0)\n",
    "    \n",
    "    return lambda_vec, error_train,error_val\n",
    "\n",
    "\n",
    "\n",
    "lambda_vec, error_train, error_val = validationCurve(X_poly, y, X_poly_Cv, yval)\n",
    "pyplot.plot(lambda_vec, error_train, '-o', lambda_vec, error_val, '-o', lw=2)\n",
    "pyplot.legend(['Train', 'Cross Validation'])\n",
    "pyplot.xlabel('lambda')\n",
    "pyplot.ylabel('Error')\n",
    "pyplot.ylim(0,200)\n",
    "pyplot.xlim(-20,20)\n",
    "\n",
    "print('lambda\\t\\tTrain Error\\tValidation Error')\n",
    "for i in range(len(lambda_vec)):\n",
    "    print(' %f\\t%f\\t%f' % (lambda_vec[i], error_train[i], error_val[i]))\n",
    "\n"
   ]
  },
  {
   "cell_type": "code",
   "execution_count": 200,
   "metadata": {},
   "outputs": [
    {
     "name": "stdout",
     "output_type": "stream",
     "text": [
      "52.71094233742781\n"
     ]
    }
   ],
   "source": [
    "finaltheta = trainLinearReg(linearRegCostFunction, np.concatenate([np.ones((ytest.size, 1)), Xtest], axis=1), ytest, 3, maxiter=200)\n",
    "errortest,_ = linearRegCostFunction(np.concatenate( [np.ones((ytest.size,1)),Xtest ], axis =1), ytest , finaltheta,0)\n",
    "print(errortest)"
   ]
  },
  {
   "cell_type": "code",
   "execution_count": null,
   "metadata": {},
   "outputs": [],
   "source": []
  }
 ],
 "metadata": {
  "kernelspec": {
   "display_name": "Python 3",
   "language": "python",
   "name": "python3"
  },
  "language_info": {
   "codemirror_mode": {
    "name": "ipython",
    "version": 3
   },
   "file_extension": ".py",
   "mimetype": "text/x-python",
   "name": "python",
   "nbconvert_exporter": "python",
   "pygments_lexer": "ipython3",
   "version": "3.7.3"
  }
 },
 "nbformat": 4,
 "nbformat_minor": 2
}
