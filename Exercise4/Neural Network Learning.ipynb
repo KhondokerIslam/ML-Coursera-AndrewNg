{
 "cells": [
  {
   "cell_type": "code",
   "execution_count": 5,
   "metadata": {},
   "outputs": [],
   "source": [
    "import os\n",
    "import numpy as np\n",
    "from matplotlib import pyplot\n",
    "from scipy import optimize\n",
    "from scipy.io import loadmat\n",
    "import utils\n",
    "\n",
    "grader = utils.Grader()\n",
    "\n",
    "%matplotlib inline"
   ]
  },
  {
   "cell_type": "code",
   "execution_count": 150,
   "metadata": {},
   "outputs": [],
   "source": [
    "data = loadmat( os.path.join('Data', 'ex4data1.mat') )\n",
    "X,y = data['X'] , data['y'].ravel()\n",
    "m = y.size\n",
    "y[y == 10] = 0\n",
    "Y = np.zeros((m, output_layer_units), dtype='uint8') \n",
    "for i, row in enumerate(Y):\n",
    "        Y[i,y[i]-1] = 1 #Creating a new 1D array filling it with one initially changing it from 0-9 "
   ]
  },
  {
   "cell_type": "code",
   "execution_count": 7,
   "metadata": {},
   "outputs": [
    {
     "name": "stdout",
     "output_type": "stream",
     "text": [
      "(25, 401)\n",
      "(5000, 400)\n",
      "[[-2.25623899e-02 -1.05624163e-08  2.19414684e-09 ... -1.30529929e-05\n",
      "  -5.04175101e-06  2.80464449e-09]\n",
      " [-9.83811294e-02  7.66168682e-09 -9.75873689e-09 ... -5.60134007e-05\n",
      "   2.00940969e-07  3.54422854e-09]\n",
      " [ 1.16156052e-01 -8.77654466e-09  8.16037764e-09 ... -1.20951657e-04\n",
      "  -2.33669661e-06 -7.50668099e-09]\n",
      " ...\n",
      " [-1.83220638e-01 -8.89272060e-09 -9.81968100e-09 ...  2.35311186e-05\n",
      "  -3.25484493e-06  9.02499060e-09]\n",
      " [-7.02096331e-01  3.05178374e-10  2.56061008e-09 ... -8.61759744e-04\n",
      "   9.43449909e-05  3.83761998e-09]\n",
      " [-3.50933229e-01  8.85876862e-09 -6.57515140e-10 ... -1.80365926e-06\n",
      "  -8.14464807e-06  8.79454531e-09]]\n"
     ]
    }
   ],
   "source": [
    "input_layer_size = 400 #also features\n",
    "hidden_layer_units = 25\n",
    "output_layer_units = 10\n",
    "\n",
    "weights = loadmat('ex4_orig_octave/ex4weights.mat')\n",
    "\n",
    "# Theta1 has size 25 x 401\n",
    "# Theta2 has size 10 x 26\n",
    "Theta1, Theta2 = weights['Theta1'], weights['Theta2']\n",
    "\n",
    "print(Theta1.shape)\n",
    "print(X.shape)\n",
    "print(Theta1)\n",
    "all_theta = np.concatenate( [Theta1.ravel(), Theta2.ravel()] ) #Rolling the Parameters\n",
    "\n",
    "def sigmoid(z):\n",
    "    return (1/(1+np.exp(-1*(z) )))"
   ]
  },
  {
   "cell_type": "code",
   "execution_count": 152,
   "metadata": {},
   "outputs": [
    {
     "name": "stdout",
     "output_type": "stream",
     "text": [
      "(10285,)\n",
      "Cost at parameters (loaded from ex4weights): 0.287629 \n",
      "The cost should be about                   : 0.287629.\n"
     ]
    }
   ],
   "source": [
    "def sigmoidGradient(z):\n",
    "    return sigmoid(z)*(1-sigmoid(z))\n",
    "def nnCostFunction(all_theta, input_layer_size, hidden_layer_units, output_layer_units, X,y , lambda_):\n",
    "    Theta1 = np.reshape(all_theta[:hidden_layer_units * (input_layer_size + 1)],\n",
    "                        (hidden_layer_units, (input_layer_size + 1)))\n",
    "\n",
    "    Theta2 = np.reshape(all_theta[(hidden_layer_units * (input_layer_size + 1)):],\n",
    "                        (output_layer_units, (hidden_layer_units + 1)))\n",
    "    \n",
    "  \n",
    "    \n",
    "    a_1 = X.copy()\n",
    "    emne1, emne2 = Theta1.shape\n",
    "    Theta1_grad = np.zeros((emne1+1,emne2))\n",
    "    Theta2_grad = np.zeros(Theta2.shape)\n",
    "    a_1 = np.hstack(( np.ones((m,1)),a_1 ))\n",
    "    a_2 = sigmoid(a_1.dot(Theta1.T))\n",
    "    \n",
    "    a_2 = a_2.T\n",
    "    \n",
    "    a_2 = np.vstack((np.ones(m), a_2))\n",
    "    \n",
    "    a_3 = sigmoid(Theta2.dot(a_2) )\n",
    "    #print( Y.dot( np.log( a_3) ) + (1-Y).dot( np.log( 1-a_3 ) ))\n",
    "    J = -1/m * np.trace( Y.dot( np.log( a_3) ) + (1-Y).dot( np.log( 1-a_3 ) ) ) + (lambda_/(2*m))*(np.sum( Theta1[:,1:]*Theta1[:,1:]   ) + np.sum( Theta2[:,1:]*Theta2[:,1:]) )\n",
    "    for t in range(m): #This is forward propagation on a single data set\n",
    "        \n",
    "        z2 = Theta1.dot(a_1[t][:])\n",
    "        a2 = sigmoid(z2)\n",
    "        \n",
    "        a2 = np.hstack(( np.ones((1)),a2 ))\n",
    "       \n",
    "        #print(a2)\n",
    "        z3 = Theta2.dot(a2)\n",
    "        a3 = sigmoid(z3)\n",
    "        \n",
    "        #Step 2\n",
    "        delta_3 = a3 - Y[:][t]\n",
    "        \n",
    "        z2 = np.hstack( (np.ones(1),z2) )\n",
    "        \n",
    "        #step3\n",
    "        delta_3 = np.reshape(delta_3, ((10,1)) )\n",
    "        \n",
    "        z2 = np.reshape( z2, ((26,1)) )\n",
    "        delta_2 = (Theta2).T.dot(delta_3)*sigmoid(z2)\n",
    "        \n",
    "        \n",
    "        \n",
    "        #step4\n",
    "        a2 = np.reshape(a2, ((1,26)) )\n",
    "        \n",
    "        \n",
    "        \n",
    "        \n",
    "        Theta2_grad = Theta2_grad + (delta_3).dot(a2)\n",
    "        a1 = np.reshape( a_1[t][:], ((1,401)) )\n",
    "        delta_2 = np.reshape(delta_2, ((26,1)) )\n",
    "        Theta1_grad  = Theta1_grad + delta_2.dot(a1)\n",
    "        \n",
    "    \n",
    "    Theta1_grad = (1/m)*Theta1_grad\n",
    "    Theta2_grad = (1/m)*Theta1_grad\n",
    "    grad = np.concatenate([Theta1_grad.ravel(), Theta2_grad.ravel()])                                                                                               \n",
    "    return J,grad\n",
    "    \n",
    "    \n",
    "    \n",
    "    \n",
    "    \n",
    "lambda_ = 0\n",
    "print( all_theta.shape )\n",
    "J, grad= nnCostFunction(all_theta, input_layer_size, hidden_layer_units, output_layer_units, X, y, \n",
    "                     lambda_)\n",
    "\n",
    "print('Cost at parameters (loaded from ex4weights): %.6f ' % J)\n",
    "print('The cost should be about                   : 0.287629.')"
   ]
  },
  {
   "cell_type": "code",
   "execution_count": 11,
   "metadata": {},
   "outputs": [
    {
     "name": "stdout",
     "output_type": "stream",
     "text": [
      "(10, 5000)\n",
      "Cost at parameters (loaded from ex4weights): 0.383770\n",
      "This value should be about                 : 0.383770.\n"
     ]
    }
   ],
   "source": [
    "# Weight regularization parameter (we set this to 1 here).\n",
    "lambda_ = 1\n",
    "J= nnCostFunction(all_theta, input_layer_size, hidden_layer_units, output_layer_units, X, y, \n",
    "                     lambda_)\n",
    "\n",
    "print('Cost at parameters (loaded from ex4weights): %.6f' % J)\n",
    "print('This value should be about                 : 0.383770.')\n"
   ]
  },
  {
   "cell_type": "code",
   "execution_count": 146,
   "metadata": {},
   "outputs": [
    {
     "name": "stdout",
     "output_type": "stream",
     "text": [
      "Sigmoid gradient evaluated at [-1 -0.5 0 0.5 1]:\n",
      "  \n",
      "[0.19661193 0.23500371 0.25       0.23500371 0.19661193]\n"
     ]
    }
   ],
   "source": [
    "\n",
    "    \n",
    "z = np.array([-1, -0.5, 0, 0.5, 1])\n",
    "g = sigmoidGradient(z)\n",
    "print('Sigmoid gradient evaluated at [-1 -0.5 0 0.5 1]:\\n  ')\n",
    "print(g)    "
   ]
  },
  {
   "cell_type": "code",
   "execution_count": null,
   "metadata": {},
   "outputs": [],
   "source": []
  },
  {
   "cell_type": "code",
   "execution_count": 135,
   "metadata": {},
   "outputs": [],
   "source": [
    "def randInitializeWeights(L_in, L_out, epsilon_init = 0.12):\n",
    "    theta = np.random.rand(L_out, 1 + L_in) * 2 * epsilon_init - epsilon_init\n",
    "    return theta\n",
    "\n",
    "\n",
    "theta1 = randInitializeWeights(input_layer_size, hidden_layer_units)\n",
    "theta2 = randInitializeWeights(hidden_layer_units, output_layer_units)\n",
    "\n",
    "unroll = np.concatenate( [theta1.ravel(), theta2.ravel()] )"
   ]
  },
  {
   "cell_type": "code",
   "execution_count": 136,
   "metadata": {},
   "outputs": [],
   "source": [
    "J, grad = nnCostFunction(unroll, input_layer_size, hidden_layer_units, output_layer_units, X, y, \n",
    "                     lambda_)\n"
   ]
  },
  {
   "cell_type": "code",
   "execution_count": null,
   "metadata": {},
   "outputs": [],
   "source": []
  },
  {
   "cell_type": "code",
   "execution_count": 158,
   "metadata": {},
   "outputs": [
    {
     "ename": "ValueError",
     "evalue": "tnc: invalid gradient vector from minimized function.",
     "output_type": "error",
     "traceback": [
      "\u001b[1;31m---------------------------------------------------------------------------\u001b[0m",
      "\u001b[1;31mValueError\u001b[0m                                Traceback (most recent call last)",
      "\u001b[1;32m<ipython-input-158-dd545be82a81>\u001b[0m in \u001b[0;36m<module>\u001b[1;34m\u001b[0m\n\u001b[0;32m      3\u001b[0m costFunction = lambda p : nnCostFunction(p, input_layer_size,hidden_layer_units, output_layer_units, X, y, \n\u001b[0;32m      4\u001b[0m                      lambda_)\n\u001b[1;32m----> 5\u001b[1;33m \u001b[0mres\u001b[0m \u001b[1;33m=\u001b[0m \u001b[0moptimize\u001b[0m\u001b[1;33m.\u001b[0m\u001b[0mminimize\u001b[0m\u001b[1;33m(\u001b[0m\u001b[0mcostFunction\u001b[0m\u001b[1;33m,\u001b[0m \u001b[0munroll\u001b[0m\u001b[1;33m,\u001b[0m \u001b[0mjac\u001b[0m\u001b[1;33m=\u001b[0m \u001b[1;32mTrue\u001b[0m\u001b[1;33m,\u001b[0m \u001b[0mmethod\u001b[0m \u001b[1;33m=\u001b[0m \u001b[1;34m'TNC'\u001b[0m \u001b[1;33m,\u001b[0m \u001b[0moptions\u001b[0m \u001b[1;33m=\u001b[0m \u001b[0moptions\u001b[0m \u001b[1;33m)\u001b[0m\u001b[1;33m\u001b[0m\u001b[1;33m\u001b[0m\u001b[0m\n\u001b[0m\u001b[0;32m      6\u001b[0m \u001b[1;33m\u001b[0m\u001b[0m\n\u001b[0;32m      7\u001b[0m \u001b[0mnn_params\u001b[0m \u001b[1;33m=\u001b[0m \u001b[0mres\u001b[0m\u001b[1;33m.\u001b[0m\u001b[0mx\u001b[0m\u001b[1;33m\u001b[0m\u001b[1;33m\u001b[0m\u001b[0m\n",
      "\u001b[1;32mD:\\Python\\lib\\site-packages\\scipy\\optimize\\_minimize.py\u001b[0m in \u001b[0;36mminimize\u001b[1;34m(fun, x0, args, method, jac, hess, hessp, bounds, constraints, tol, callback, options)\u001b[0m\n\u001b[0;32m    602\u001b[0m     \u001b[1;32melif\u001b[0m \u001b[0mmeth\u001b[0m \u001b[1;33m==\u001b[0m \u001b[1;34m'tnc'\u001b[0m\u001b[1;33m:\u001b[0m\u001b[1;33m\u001b[0m\u001b[1;33m\u001b[0m\u001b[0m\n\u001b[0;32m    603\u001b[0m         return _minimize_tnc(fun, x0, args, jac, bounds, callback=callback,\n\u001b[1;32m--> 604\u001b[1;33m                              **options)\n\u001b[0m\u001b[0;32m    605\u001b[0m     \u001b[1;32melif\u001b[0m \u001b[0mmeth\u001b[0m \u001b[1;33m==\u001b[0m \u001b[1;34m'cobyla'\u001b[0m\u001b[1;33m:\u001b[0m\u001b[1;33m\u001b[0m\u001b[1;33m\u001b[0m\u001b[0m\n\u001b[0;32m    606\u001b[0m         \u001b[1;32mreturn\u001b[0m \u001b[0m_minimize_cobyla\u001b[0m\u001b[1;33m(\u001b[0m\u001b[0mfun\u001b[0m\u001b[1;33m,\u001b[0m \u001b[0mx0\u001b[0m\u001b[1;33m,\u001b[0m \u001b[0margs\u001b[0m\u001b[1;33m,\u001b[0m \u001b[0mconstraints\u001b[0m\u001b[1;33m,\u001b[0m \u001b[1;33m**\u001b[0m\u001b[0moptions\u001b[0m\u001b[1;33m)\u001b[0m\u001b[1;33m\u001b[0m\u001b[1;33m\u001b[0m\u001b[0m\n",
      "\u001b[1;32mD:\\Python\\lib\\site-packages\\scipy\\optimize\\tnc.py\u001b[0m in \u001b[0;36m_minimize_tnc\u001b[1;34m(fun, x0, args, jac, bounds, eps, scale, offset, mesg_num, maxCGit, maxiter, eta, stepmx, accuracy, minfev, ftol, xtol, gtol, rescale, disp, callback, **unknown_options)\u001b[0m\n\u001b[0;32m    407\u001b[0m                                         \u001b[0moffset\u001b[0m\u001b[1;33m,\u001b[0m \u001b[0mmessages\u001b[0m\u001b[1;33m,\u001b[0m \u001b[0mmaxCGit\u001b[0m\u001b[1;33m,\u001b[0m \u001b[0mmaxfun\u001b[0m\u001b[1;33m,\u001b[0m\u001b[1;33m\u001b[0m\u001b[1;33m\u001b[0m\u001b[0m\n\u001b[0;32m    408\u001b[0m                                         \u001b[0meta\u001b[0m\u001b[1;33m,\u001b[0m \u001b[0mstepmx\u001b[0m\u001b[1;33m,\u001b[0m \u001b[0maccuracy\u001b[0m\u001b[1;33m,\u001b[0m \u001b[0mfmin\u001b[0m\u001b[1;33m,\u001b[0m \u001b[0mftol\u001b[0m\u001b[1;33m,\u001b[0m\u001b[1;33m\u001b[0m\u001b[1;33m\u001b[0m\u001b[0m\n\u001b[1;32m--> 409\u001b[1;33m                                         xtol, pgtol, rescale, callback)\n\u001b[0m\u001b[0;32m    410\u001b[0m \u001b[1;33m\u001b[0m\u001b[0m\n\u001b[0;32m    411\u001b[0m     \u001b[0mfunv\u001b[0m\u001b[1;33m,\u001b[0m \u001b[0mjacv\u001b[0m \u001b[1;33m=\u001b[0m \u001b[0mfunc_and_grad\u001b[0m\u001b[1;33m(\u001b[0m\u001b[0mx\u001b[0m\u001b[1;33m)\u001b[0m\u001b[1;33m\u001b[0m\u001b[1;33m\u001b[0m\u001b[0m\n",
      "\u001b[1;31mValueError\u001b[0m: tnc: invalid gradient vector from minimized function."
     ]
    }
   ],
   "source": [
    "options = {'maxiter' : 100}\n",
    "lambda_ = 1\n",
    "costFunction = lambda p : nnCostFunction(p, input_layer_size,hidden_layer_units, output_layer_units, X, y, \n",
    "                     lambda_)\n",
    "res = optimize.minimize(costFunction, unroll, jac= True, method = 'TNC' , options = options )\n",
    "\n",
    "nn_params = res.x\n",
    "Theta1 = np.reshape(nn_params[:hidden_layer_units * (input_layer_size + 1)],\n",
    "                    (hidden_layer_units, (input_layer_size + 1)))\n",
    "\n",
    "Theta2 = np.reshape(nn_params[(hidden_layer_units * (input_layer_size + 1)):],\n",
    "                    (output_layer_units, (hidden_layer_units + 1)))\n",
    "\n",
    "pred = utils.predict(Theta1, Theta2, X)"
   ]
  },
  {
   "cell_type": "code",
   "execution_count": null,
   "metadata": {},
   "outputs": [],
   "source": []
  }
 ],
 "metadata": {
  "kernelspec": {
   "display_name": "Python 3",
   "language": "python",
   "name": "python3"
  },
  "language_info": {
   "codemirror_mode": {
    "name": "ipython",
    "version": 3
   },
   "file_extension": ".py",
   "mimetype": "text/x-python",
   "name": "python",
   "nbconvert_exporter": "python",
   "pygments_lexer": "ipython3",
   "version": "3.7.3"
  }
 },
 "nbformat": 4,
 "nbformat_minor": 2
}
